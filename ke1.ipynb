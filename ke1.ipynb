{
 "cells": [
  {
   "cell_type": "markdown",
   "metadata": {},
   "source": [
    "# Kinematic Equation #1\n",
    "\n",
    "distance = speed (time)\n",
    "\n",
    "This is really a differential equation\n",
    "\n",
    "$dx = v dt$\n",
    "\n",
    "So if we set $v = v_0$ and $x = x_0$ we can integrate just by taking baby steps\n",
    "\n",
    "$$x_1 = x_0 + v_0 dt$$\n",
    "$$x_2 = x_1 + v_0 dt$$\n",
    "$$...$$\n",
    "$$x_n = x_{n-1} + v_0 dt$$\n",
    "\n",
    "\n",
    "In Python, it looks like this:"
   ]
  },
  {
   "cell_type": "code",
   "execution_count": 1,
   "metadata": {},
   "outputs": [
    {
     "name": "stdout",
     "output_type": "stream",
     "text": [
      "Our first differential 0.003\n"
     ]
    }
   ],
   "source": [
    "import numpy as np\n",
    "from matplotlib import pyplot as plt\n",
    "\n",
    "def dx(v, dt): \n",
    "    return v*dt\n",
    "\n",
    "x_1 = dx(3,0.001) \n",
    "print(f\"Our first differential {x_1}\")"
   ]
  },
  {
   "cell_type": "markdown",
   "metadata": {},
   "source": [
    "## Integrating: just count it up\n",
    "\n",
    "We really have two differential equations\n",
    "\n",
    "$$ t = t_0 + \\Sigma_{i=0,n} dt $$\n",
    "\n",
    "and\n",
    "\n",
    "$$ x = x_0 + \\Sigma_{i=0,n} vdt $$\n",
    "\n",
    "Of course, you know that it's simpler to just write $\\Delta x = v \\Delta t$,\n",
    "but when the equations become more complicated, we'll want to actually add up all the differentials.\n",
    "So let's go:"
   ]
  },
  {
   "cell_type": "code",
   "execution_count": 2,
   "metadata": {},
   "outputs": [
    {
     "name": "stdout",
     "output_type": "stream",
     "text": [
      "This graph is generated from lists with 10 points.\n",
      "The variable num_pts = 10\n"
     ]
    },
    {
     "data": {
      "image/png": "[encoded data removed]",
      "text/plain": [
       "<Figure size 640x480 with 1 Axes>"
      ]
     },
     "metadata": {},
     "output_type": "display_data"
    }
   ],
   "source": [
    "# set initial conditions\n",
    "t_0 = 0\n",
    "x_0 = 0\n",
    "t_f = 5     # seconds\n",
    "dt = 0.5  # seconds.     ___ TRY CHANGING THIS YOURSELF ____\n",
    "v = 2   # meters / second\n",
    "num_pts = int(np.floor( (t_f - t_0) / dt ))\n",
    "\n",
    "# create variables to store our results\n",
    "t = list(np.zeros(num_pts))\n",
    "x = list(np.zeros(num_pts))\n",
    "x[0] = x_0\n",
    "\n",
    "# add up the baby steps\n",
    "for i in range(num_pts-1):\n",
    "    t[i+1] = t[i] + dt\n",
    "    x[i+1] = x[i] + dx(v, dt)\n",
    "\n",
    "# graph the result\n",
    "plt.plot(t,x,'.')\n",
    "plt.xlabel(\"Time (s)\")\n",
    "plt.ylabel(\"Distance (m)\")\n",
    "print(f\"This graph is generated from lists with {len(x)} points.\\nThe variable num_pts = {num_pts}\")"
   ]
  },
  {
   "cell_type": "markdown",
   "metadata": {},
   "source": [
    "## You did it\n",
    "\n",
    "Wow, you can now use the computer to \"integrate a differential equation\" and to make a graph of the results.\n",
    "\n",
    "This is a super power, one that would have been impressive when your parents were your age, and unthinkable when your grandparents were your age.\n",
    "\n",
    "It might not seem like much, but very quickly we will see that if Newton and Leibnitz and Émilie du Châtelet had this power, they would have gotten over thier debates and moved onto bigger things _very_ quickly."
   ]
  }
 ],
 "metadata": {
  "kernelspec": {
   "display_name": ".venv",
   "language": "python",
   "name": "python3"
  },
  "language_info": {
   "codemirror_mode": {
    "name": "ipython",
    "version": 3
   },
   "file_extension": ".py",
   "mimetype": "text/x-python",
   "name": "python",
   "nbconvert_exporter": "python",
   "pygments_lexer": "ipython3",
   "version": "3.9.6"
  }
 },
 "nbformat": 4,
 "nbformat_minor": 2
}
